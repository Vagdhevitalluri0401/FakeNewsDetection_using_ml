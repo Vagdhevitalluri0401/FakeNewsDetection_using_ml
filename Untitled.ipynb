{
 "cells": [
  {
   "cell_type": "code",
   "execution_count": 8,
   "id": "96eeb8fa-d933-4261-82f9-81d0db7161ef",
   "metadata": {
    "scrolled": true
   },
   "outputs": [
    {
     "name": "stdout",
     "output_type": "stream",
     "text": [
      "              precision    recall  f1-score   support\n",
      "\n",
      "           0       0.99      0.99      0.99      5895\n",
      "           1       0.98      0.99      0.99      5330\n",
      "\n",
      "    accuracy                           0.99     11225\n",
      "   macro avg       0.99      0.99      0.99     11225\n",
      "weighted avg       0.99      0.99      0.99     11225\n",
      "\n"
     ]
    },
    {
     "data": {
      "text/plain": [
       "['lr_model.jb']"
      ]
     },
     "execution_count": 8,
     "metadata": {},
     "output_type": "execute_result"
    }
   ],
   "source": [
    "import pandas as pd\n",
    "from sklearn.model_selection import train_test_split\n",
    "from sklearn.feature_extraction.text import TfidfVectorizer\n",
    "from sklearn.linear_model import LogisticRegression\n",
    "from sklearn.metrics import classification_report\n",
    "import re\n",
    "import joblib\n",
    "import string\n",
    "\n",
    "fake=pd.read_csv(r\"C:\\Users\\tallu\\Downloads\\Fake.csv\")\n",
    "true=pd.read_csv(r\"C:\\Users\\tallu\\Downloads\\True.csv\")\n",
    "\n",
    "fake.head()\n",
    "true.head()\n",
    "\n",
    "fake['class']=0\n",
    "true['class']=1\n",
    "\n",
    "data=pd.concat([fake,true],axis=0)\n",
    "\n",
    "data.isnull().sum()\n",
    "data.dropna(inplace=True)\n",
    "\n",
    "data.shape\n",
    "data.sample(10)\n",
    "\n",
    "data = data.drop([\"title\",\"subject\",\"date\"],axis=1)\n",
    "data.reset_index(inplace=True)\n",
    "data.drop(['index'],axis=1,inplace=True)\n",
    "data.sample(5)\n",
    "\n",
    "def clean_text(text):\n",
    "    text = text.lower()\n",
    "    text = re.sub(r'\\[.*?\\]', \"\", text)\n",
    "    text = re.sub(r\"\\W\", \" \", text)\n",
    "    text = re.sub(r\"https?://\\S+|www\\.\\S+\", \"\", text)\n",
    "    text = re.sub(r\"<.*?>+\", \"\", text)\n",
    "    text = re.sub(r\"[%s]\" % re.escape(string.punctuation), \"\", text)\n",
    "    text = re.sub(r\"\\n\", \"\", text)\n",
    "    text = re.sub(r\"\\w\\d\\w\", \"\", text)\n",
    "    return text\n",
    "\n",
    "data[\"text\"]=data[\"text\"].apply(clean_text)\n",
    "\n",
    "x=data[\"text\"]\n",
    "y=data[\"class\"]\n",
    "\n",
    "xtrain,xtest,ytrain,ytest=train_test_split(x,y,test_size=0.25,random_state=42)\n",
    "\n",
    "vectorizer=TfidfVectorizer()\n",
    "xv_train=vectorizer.fit_transform(xtrain)\n",
    "xv_test=vectorizer.transform(xtest)\n",
    "\n",
    "lr=LogisticRegression()\n",
    "lr.fit(xv_train,ytrain)\n",
    "\n",
    "prediction=lr.predict(xv_test)\n",
    "lr.score(xv_test,ytest)\n",
    "\n",
    "print(classification_report(ytest,prediction))\n",
    "\n",
    "joblib.dump(vectorizer,\"vectorizer.jb\")\n",
    "joblib.dump(lr,\"lr_model.jb\")"
   ]
  },
  {
   "cell_type": "code",
   "execution_count": null,
   "id": "b70e07e7-62f6-4b00-996a-bf0debeb457b",
   "metadata": {},
   "outputs": [],
   "source": []
  }
 ],
 "metadata": {
  "kernelspec": {
   "display_name": "Python 3 (ipykernel)",
   "language": "python",
   "name": "python3"
  },
  "language_info": {
   "codemirror_mode": {
    "name": "ipython",
    "version": 3
   },
   "file_extension": ".py",
   "mimetype": "text/x-python",
   "name": "python",
   "nbconvert_exporter": "python",
   "pygments_lexer": "ipython3",
   "version": "3.12.4"
  }
 },
 "nbformat": 4,
 "nbformat_minor": 5
}
